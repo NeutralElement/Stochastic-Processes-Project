{
 "cells": [
  {
   "cell_type": "markdown",
   "id": "50f71004",
   "metadata": {},
   "source": [
    "### Códigos de la autora sobre equilibrio de Nash"
   ]
  },
  {
   "cell_type": "code",
   "execution_count": 40,
   "id": "01d03898-02f4-4290-8152-012f559ec56e",
   "metadata": {},
   "outputs": [],
   "source": [
    "import numpy as np\n",
    "import matplotlib.pyplot as plt\n",
    "import pandas as pd\n",
    "from gurobipy import Model, GRB\n",
    "import re\n",
    "import random\n",
    "\n",
    "# Configuración visual\n",
    "plt.rcParams['text.usetex'] = True\n",
    "plt.rcParams['mathtext.fontset'] = 'cm'\n",
    "plt.rcParams['font.family'] = 'serif'\n",
    "\n",
    "# Archivos de entrada\n",
    "converge_file = r\"C:\\Users\\nico_\\Desktop\\Procesos\\Proyecto\\JavieraSimulations\\RESULTADOS_P_PP_1.dat\"\n",
    "parametros_file = r\"C:\\Users\\nico_\\Desktop\\Procesos\\Proyecto\\JavieraSimulations\\beneficios_capacidades_1.dat\"\n",
    "pps_file = r\"C:\\Users\\nico_\\Desktop\\Procesos\\Proyecto\\JavieraSimulations\\NODOS_PROPORCIONES_10.dat\"\n",
    "all_pps_file = r\"C:\\Users\\nico_\\Desktop\\Procesos\\Proyecto\\JavieraSimulations\\Resultados_v1.dat\"\n",
    "\n",
    "# Leer resultados de programas\n",
    "resultados_df = pd.read_csv(converge_file, sep='\\t', names=['Programa', 'Probabilidad', 'Lugares'], engine='python')\n",
    "resultados_df['Lugares'] = resultados_df['Lugares'].str.strip('),').str.replace(r'[^\\d,]', '', regex=True)\n",
    "\n",
    "pps_df = pd.read_csv(pps_file, sep='\\t', names=['pp', 'Probabilidad'], engine='python')\n",
    "all_pps_df = pd.read_csv(all_pps_file, sep='\\t', names=[\"instancia\",  \"n\", \"j\", \"pj\", \"pp\", \"tiempo\", \"x\",\"gamma\"], engine='python').drop(columns=[\"gamma\", \"x\", \"tiempo\", \"pj\"])\n",
    "\n",
    "# Leer parámetros desde el archivo DAT\n",
    "with open(parametros_file, 'r') as file:\n",
    "    parametros_lines = file.readlines()\n",
    "\n",
    "# Procesar conjuntos y parámetros\n",
    "I = list(map(int, re.findall(r'\\d+', parametros_lines[0])))\n",
    "L = list(map(int, re.findall(r'\\d+', parametros_lines[2])))\n",
    "\n",
    "BI, BL, KI, KL = {}, {}, {}, {}\n",
    "Perd, M = None, None\n",
    "reading_section = None\n",
    "\n",
    "for line in parametros_lines:\n",
    "    if 'param BI :=' in line:\n",
    "        reading_section = 'BI'\n",
    "    elif 'param BL :=' in line:\n",
    "        reading_section = 'BL'\n",
    "    elif 'param KI :=' in line:\n",
    "        reading_section = 'KI'\n",
    "    elif 'param KL :=' in line:\n",
    "        reading_section = 'KL'\n",
    "    elif 'param Perd :=' in line:\n",
    "        Perd = int(re.search(r'\\d+', line).group())\n",
    "    elif 'param M :=' in line:\n",
    "        M = int(re.search(r'\\d+', line).group())\n",
    "    elif ';' in line:\n",
    "        reading_section = None\n",
    "    elif reading_section:\n",
    "        key, value = re.findall(r'\\d+', line)\n",
    "        if reading_section == 'BI':\n",
    "            BI[int(key)] = float(value)\n",
    "        elif reading_section == 'BL':\n",
    "            BL[int(key)] = float(value)\n",
    "        elif reading_section == 'KI':\n",
    "            KI[int(key)] = float(value)\n",
    "        elif reading_section == 'KL':\n",
    "            KL[int(key)] = float(value)\n",
    "\n",
    "# Parámetro G\n",
    "G = max(max(BI.values(), default=0), max(BL.values(), default=0))\n",
    "\n",
    "def resolver_con_gurobi(Pmg):\n",
    "    model = Model(\"SistemaEcuaciones\")\n",
    "    model.Params.OutputFlag = 0\n",
    "\n",
    "    gamma = model.addVar(vtype=GRB.CONTINUOUS, name=\"gamma\")\n",
    "    pp_vars = {j: model.addVar(vtype=GRB.CONTINUOUS, lb=0, ub=1, name=f\"pp_{j}\") for j in I + L}\n",
    "    y_vars = {j: model.addVar(vtype=GRB.BINARY, name=f\"y_{j}\") for j in I + L}\n",
    "\n",
    "    for j in I + L:\n",
    "        capacidad = KI[j] if j in I else KL[j]\n",
    "        beneficio = BI[j] if j in I else BL[j]\n",
    "\n",
    "        model.addConstr(\n",
    "            G * (1 - y_vars[j]) + beneficio * (1 - pp_vars[j] * (M / capacidad)) * (1 - Pmg[j]) - Perd * Pmg[j] >= gamma,\n",
    "            name=f\"restriccion1_{j}\"\n",
    "        )\n",
    "        model.addConstr(\n",
    "            beneficio * (1 - pp_vars[j] * (M / capacidad)) * (1 - Pmg[j]) - Perd * Pmg[j] <= gamma,\n",
    "            name=f\"restriccion2_{j}\"\n",
    "        )\n",
    "        model.addConstr(pp_vars[j] <= y_vars[j], name=f\"restriccion3_{j}\")\n",
    "\n",
    "    model.addConstr(sum(pp_vars[j] for j in I + L) == 1, name=\"suma_proporciones\")\n",
    "    model.setObjective(gamma, GRB.MINIMIZE)\n",
    "    model.optimize()\n",
    "\n",
    "    if model.status != GRB.OPTIMAL:\n",
    "        raise ValueError(\"No se pudo encontrar una solución óptima.\")\n",
    "\n",
    "    soluciones = {\n",
    "        'gamma': gamma.X,\n",
    "        **{j: {'pp': pp_vars[j].X, 'y': y_vars[j].X} for j in I + L}\n",
    "    }\n",
    "    return soluciones\n",
    "\n",
    "def simulacion_monte_carlo(dias_validos_deseados=150):\n",
    "    Pmg = {j: 0 for j in I + L}\n",
    "    proporciones_ilegales = []\n",
    "    dias_validos = []\n",
    "\n",
    "    dia = 1\n",
    "    while len(proporciones_ilegales) < dias_validos_deseados:\n",
    "        programa_seleccionado = random.choices(\n",
    "            resultados_df['Programa'],\n",
    "            weights=resultados_df['Probabilidad'],\n",
    "            k=1\n",
    "        )[0]\n",
    "\n",
    "        lugares_inspeccionados = list(map(int, resultados_df[resultados_df['Programa'] == programa_seleccionado]['Lugares'].values[0].split(',')))\n",
    "        x_dia = {j: 1 if j in lugares_inspeccionados else 0 for j in I + L}\n",
    "\n",
    "        for j in Pmg:\n",
    "            Pmg[j] = (Pmg[j] * (dia - 1) + x_dia[j]) / dia\n",
    "\n",
    "        try:\n",
    "            soluciones = resolver_con_gurobi(Pmg)\n",
    "            suma_ilegales = sum(soluciones[j]['pp'] for j in I)\n",
    "            proporciones_ilegales.append(suma_ilegales * 100)\n",
    "            dias_validos.append(len(proporciones_ilegales) - 1)\n",
    "        except Exception:\n",
    "            pass\n",
    "\n",
    "        dia += 1\n",
    "\n",
    "      # === GRAFICO ===\n",
    "    plt.figure(figsize=(16, 6))\n",
    "    plt.plot(dias_validos, proporciones_ilegales, color='black', linewidth=2, zorder=3)\n",
    "    plt.axhline(y=52, color='black', linestyle=':', linewidth=1.5, label=r'$I_{OR} = 52\\%$', zorder=2)\n",
    "\n",
    "    plt.xlabel(\"Periods\", fontsize=27, labelpad=15)\n",
    "    plt.ylabel(r\"$I_{OR}(\\tau)$\", fontsize=27, labelpad=15)\n",
    "\n",
    "    max_y = max(proporciones_ilegales) + 1\n",
    "    plt.ylim(40, max_y)\n",
    "    plt.xticks(ticks=range(0, dias_validos_deseados + 1, 15), fontsize=17)\n",
    "\n",
    "    ticks_y = sorted(set([y for y in np.arange(50, np.ceil(max_y / 10) * 10, 5)] + [52]))\n",
    "    plt.gca().set_yticks(ticks_y)\n",
    "    plt.gca().set_yticklabels([f\"{int(t)}\\\\%\" for t in ticks_y], fontsize=17, color='black')\n",
    "\n",
    "    plt.grid(False)\n",
    "    plt.tight_layout()\n",
    "\n",
    "    ruta_guardado = r\"C:\\Users\\nico_\\Desktop\\Procesos\\Proyecto\\JavieraSimulations\\simulacion_montecarlo1.pdf\"\n",
    "    plt.savefig(ruta_guardado, format='pdf', dpi=300)\n",
    "    plt.show()\n",
    "\n",
    "    print(f\"Gráfico guardado en: {ruta_guardado}\")\n",
    "\n",
    "    # === ESTADÍSTICAS ===\n",
    "    if proporciones_ilegales:\n",
    "        ior_inicial = proporciones_ilegales[0]\n",
    "        ior_min = min(proporciones_ilegales)\n",
    "        ior_argmin = np.argmin(proporciones_ilegales)\n",
    "\n",
    "        ior_media_estacionaria = np.mean(proporciones_ilegales[-100:])\n",
    "        dia_baja_52 = next((i for i, val in enumerate(proporciones_ilegales) if val <= 52), None)\n",
    "\n",
    "        print(\"\\n=== Estadísticas IOR ===\")\n",
    "        print(f\"IOR inicial: {ior_inicial:.2f}%\")\n",
    "        print(f\"IOR mínima: {ior_min:.2f}%\")\n",
    "        print(f\"IOR promedio últimos 100 días: {ior_media_estacionaria:.2f}%\")\n",
    "        if dia_baja_52 is not None:\n",
    "            print(f\"Día relativo en que baja de 52%: {dia_baja_52}\")\n",
    "            return dia_baja_52\n",
    "        else:\n",
    "            print(\"No se alcanzó una IOR menor o igual al 52% en la simulación.\")\n",
    "            return ior_argmin\n",
    "# # Ejecutar simulación\n",
    "# simulacion_monte_carlo(dias_validos_deseados=150)\n"
   ]
  },
  {
   "cell_type": "code",
   "execution_count": 41,
   "id": "5f2d667c",
   "metadata": {},
   "outputs": [
    {
     "name": "stdout",
     "output_type": "stream",
     "text": [
      "102\n",
      "40\n",
      "142\n"
     ]
    }
   ],
   "source": [
    "print(len(I)) #Cantidad de lugares ilegales\n",
    "print(len(L)) #Cantidad de lugares legales\n",
    "print(len(I+L)) #Intersección vacía, |I+L| = |I|+|L|"
   ]
  },
  {
   "cell_type": "markdown",
   "id": "4a0e7e55",
   "metadata": {},
   "source": [
    "## Ejemplo de simulación Monte Carlo"
   ]
  },
  {
   "cell_type": "code",
   "execution_count": 42,
   "id": "294e8506",
   "metadata": {},
   "outputs": [],
   "source": [
    "# dias = []\n",
    "# for n in range(0,10,1):\n",
    "#     dias.append(simulacion_monte_carlo(150))\n",
    "\n",
    "# print(\"Promedio de tau: \"+str(np.mean(np.array(dias))))"
   ]
  },
  {
   "cell_type": "markdown",
   "id": "063a7a2b",
   "metadata": {},
   "source": [
    "## Obtención de $\\mathbf{p}^*$ según $NE(\\mathbb{P})$"
   ]
  },
  {
   "cell_type": "code",
   "execution_count": 43,
   "id": "69b0254a",
   "metadata": {},
   "outputs": [],
   "source": [
    "# Pmg = {j: 0 for j in I + L}\n",
    "\n",
    "# for n in resultados_df.index:\n",
    "#     p = resultados_df.loc[n,\"Probabilidad\"]\n",
    "#     lugares = resultados_df.loc[n,\"Lugares\"].split(\",\")\n",
    "#     for m in lugares:\n",
    "#         Pmg[int(m)] += p\n",
    "\n",
    "# soluciones_optimas = resolver_con_gurobi(Pmg)\n",
    "\n",
    "# pp = {j: 0 for j in I + L}\n",
    "\n",
    "# for n in Pmg.keys():\n",
    "#     n=int(n)\n",
    "\n",
    "#     capacidad = KI[n] if n in I else KL[n]\n",
    "#     beneficio = BI[n] if n in I else BL[n]\n",
    "    \n",
    "#     pp[n] = soluciones_optimas[n][\"pp\"]*M\n",
    "#     pp[n] = pp[n]\n",
    "\n",
    "# #Hay que reconstruir los p_j debido a que están escritos como combinación convexa de otros objetos que escapan de este trabajo...\n",
    "\n",
    "\n",
    "# print(sum(soluciones_optimas[n][\"pp\"] for n in I)) #IOR*"
   ]
  },
  {
   "cell_type": "code",
   "execution_count": 49,
   "id": "6eff1b04",
   "metadata": {},
   "outputs": [],
   "source": [
    "pp = {j: 0 for j in I + L}\n",
    "\n",
    "for n in pps_df.index:\n",
    "    pp[int(pps_df.loc[n,\"pp\"])] = pps_df.loc[n,\"Probabilidad\"]*M\n"
   ]
  },
  {
   "cell_type": "code",
   "execution_count": 45,
   "id": "62debb4f",
   "metadata": {},
   "outputs": [],
   "source": [
    "capacidadM = {n: M for n in I+L} #Capacidad infinita"
   ]
  },
  {
   "cell_type": "markdown",
   "id": "ea2ae262",
   "metadata": {},
   "source": [
    "##  $\\tau$ y $Ior(\\tau)$"
   ]
  },
  {
   "cell_type": "code",
   "execution_count": 52,
   "id": "e28e6f24",
   "metadata": {},
   "outputs": [],
   "source": [
    "def MarkovMatrix(Popt,k,M,eps): #Creación de Matriz de Markov\n",
    "    MM = np.zeros((M+1,M+1))\n",
    "\n",
    "    for i in range(0,M+1,1):\n",
    "        C2 = abs(Popt-i)*(1+eps)\n",
    "\n",
    "        Limsup = min(k, int(np.trunc(Popt+C2)),M)\n",
    "        Liminf = max(0, int(np.ceil(Popt-C2)))\n",
    "\n",
    "        if C2 == 0:\n",
    "            MM[Liminf, Liminf] = 1.0\n",
    "            continue\n",
    "        \n",
    "        elif C2 < 0.5:\n",
    "            t = int((-1)*(min(Popt-Liminf, Limsup-Popt)-Popt))\n",
    "            MM[t,t]  = 1\n",
    "            continue\n",
    "\n",
    "        elif C2 == 0.5:\n",
    "            MM[Liminf,Limsup]  = 0.5\n",
    "            MM[Liminf,Liminf]  = 0.5\n",
    "            MM[Limsup, Limsup] = 0.5\n",
    "            MM[Limsup, Liminf] = 0.5\n",
    "        \n",
    "            continue\n",
    "\n",
    "        C1 = sum(C2-abs(Popt-j) for j in range(Liminf,Limsup+1,1))\n",
    "        \n",
    "        for j in range(Liminf,Limsup+1,1):\n",
    "            \n",
    "            MM[i,j] = C2 - abs(Popt-j) \n",
    "        \n",
    "        \n",
    "        MM[i] *= 1/C1\n",
    "\n",
    "    return MM\n",
    "\n",
    "def printt(M,a):\n",
    "    print(np.round(M,a))\n",
    "    return\n",
    "\n",
    "def indices_a_borrar(P,Opt):\n",
    "    D = np.diag(P)\n",
    "    s = np.argmax(D)\n",
    "    t = D[s]\n",
    "\n",
    "    lista = []\n",
    "    lista.append(s)\n",
    "\n",
    "    if abs(t-1) > 1e-8:\n",
    "        if s > Opt:\n",
    "            lista.append(s-1)\n",
    "        else:\n",
    "            lista.append(s+1)\n",
    "    \n",
    "    return lista\n",
    "\n",
    "def HitTime(Opt,cap,M,par):\n",
    "\n",
    "    P = MarkovMatrix(Opt,cap,M,par)\n",
    "    ind = indices_a_borrar(P,Opt)\n",
    "    Q = np.delete(np.delete(P,ind,axis=1), ind, axis=0)\n",
    "    \n",
    "    F1 = np.linalg.solve(np.identity(len(Q))-Q,np.ones(len(Q)))\n",
    "     \n",
    "    return F1, len(ind)\n",
    "\n",
    "def HitTimeMasivo(pp,capacidad,M,par,ind):\n",
    "    Tiempo = {n : 0 for n in ind}\n",
    "\n",
    "    absorb = 0\n",
    "\n",
    "    for n in ind:\n",
    "        Opt = pp[n]\n",
    "        F1, l = HitTime(Opt,capacidad[n],M,par)\n",
    "        absorb += l\n",
    "        Tiempo[n] = (np.ones(len(F1)) @ F1) \n",
    "\n",
    "    return sum(Tiempo[n] for n in ind)/((M+1)*len(ind)-absorb)\n",
    "\n",
    "def MarkovIteration(P,tau): #Digase, 1_l*P^tau\n",
    "    \n",
    "    P2 = np.ones(len(P)) @ P\n",
    "    for n in range(1,tau,1):\n",
    "        P2 = P2 @ P\n",
    "    return P2 @ np.arange(0,M+1,1)\n",
    "\n",
    "def Ior_t(pp, capacidadM, M, t):\n",
    "    #Ior(tau)\n",
    "    Ior_tau = 0\n",
    "\n",
    "    for n in I:\n",
    "        Ior_tau += MarkovIteration(MarkovMatrix(pp[n],capacidadM[n],M,0), round(t))\n",
    "\n",
    "    Ior_tau = Ior_tau/(M+1)**2\n",
    "\n",
    "    return Ior_tau"
   ]
  },
  {
   "cell_type": "code",
   "execution_count": 50,
   "id": "9c9bd2c6",
   "metadata": {},
   "outputs": [
    {
     "name": "stdout",
     "output_type": "stream",
     "text": [
      "4.6830636931127705\n",
      "(0.6036302529251829, 0.5108620237507686)\n",
      "(0.5108620237507686, 0.4864727449287336)\n",
      "0.48161846009999987\n"
     ]
    }
   ],
   "source": [
    "#tau\n",
    "tau = HitTimeMasivo(pp,capacidadM, M , 0,I+L)\n",
    "Ior_tau = Ior_t(pp,capacidadM, M, tau)\n",
    "Ior_tau1 = Ior_t(pp,capacidadM, M, tau+1)\n",
    "\n",
    "print(tau)          #tau\n",
    "print(Ior_tau)      #Ior(tau)\n",
    "print(Ior_tau1)     #Ior(tau+1)\n",
    "\n",
    "print(sum(pp[n]/M for n in I))#Ior*"
   ]
  },
  {
   "cell_type": "markdown",
   "id": "16838b5a",
   "metadata": {},
   "source": [
    "### $\\tau$ y $Ior(\\tau)$ de la autora"
   ]
  },
  {
   "cell_type": "code",
   "execution_count": null,
   "id": "6fc5fe10",
   "metadata": {},
   "outputs": [
    {
     "name": "stdout",
     "output_type": "stream",
     "text": [
      "0.47589743589743555\n"
     ]
    }
   ],
   "source": [
    "#IOR según el paper original\n",
    "\n",
    "Ior_Javiera = Ior_t(pp,capacidadM,M,58)\n",
    "print(Ior_Javiera)"
   ]
  },
  {
   "cell_type": "markdown",
   "id": "f77e882c",
   "metadata": {},
   "source": [
    "# Tiempos para todo $n \\in \\{1,2 \\dots 15\\}$"
   ]
  },
  {
   "cell_type": "code",
   "execution_count": 60,
   "id": "78f87cf9",
   "metadata": {},
   "outputs": [
    {
     "data": {
      "text/plain": [
       "0.0"
      ]
     },
     "execution_count": 60,
     "metadata": {},
     "output_type": "execute_result"
    }
   ],
   "source": [
    "df.loc[3,\"pp\"]*M"
   ]
  },
  {
   "cell_type": "code",
   "execution_count": 62,
   "id": "9c2d0fe7",
   "metadata": {},
   "outputs": [
    {
     "name": "stdout",
     "output_type": "stream",
     "text": [
      "1.0 4.683840044655542 0.8966053191937375\n"
     ]
    },
    {
     "ename": "KeyboardInterrupt",
     "evalue": "",
     "output_type": "error",
     "traceback": [
      "\u001b[1;31m---------------------------------------------------------------------------\u001b[0m",
      "\u001b[1;31mKeyboardInterrupt\u001b[0m                         Traceback (most recent call last)",
      "Cell \u001b[1;32mIn[62], line 12\u001b[0m\n\u001b[0;32m      8\u001b[0m     j \u001b[38;5;241m=\u001b[39m \u001b[38;5;28mint\u001b[39m(df\u001b[38;5;241m.\u001b[39mloc[n3, \u001b[38;5;124m\"\u001b[39m\u001b[38;5;124mj\u001b[39m\u001b[38;5;124m\"\u001b[39m])\n\u001b[0;32m     10\u001b[0m     ppn[j] \u001b[38;5;241m=\u001b[39m df\u001b[38;5;241m.\u001b[39mloc[n3, \u001b[38;5;124m\"\u001b[39m\u001b[38;5;124mpp\u001b[39m\u001b[38;5;124m\"\u001b[39m]\u001b[38;5;241m*\u001b[39mM\n\u001b[1;32m---> 12\u001b[0m tau_n \u001b[38;5;241m=\u001b[39m \u001b[43mHitTimeMasivo\u001b[49m\u001b[43m(\u001b[49m\u001b[43mppn\u001b[49m\u001b[43m,\u001b[49m\u001b[43m \u001b[49m\u001b[43mcapacidadM\u001b[49m\u001b[43m,\u001b[49m\u001b[43m \u001b[49m\u001b[43mM\u001b[49m\u001b[43m \u001b[49m\u001b[43m,\u001b[49m\u001b[43m \u001b[49m\u001b[38;5;241;43m0\u001b[39;49m\u001b[43m,\u001b[49m\u001b[43mI\u001b[49m\u001b[38;5;241;43m+\u001b[39;49m\u001b[43mL\u001b[49m\u001b[43m)\u001b[49m\n\u001b[0;32m     13\u001b[0m Ior_tau_n \u001b[38;5;241m=\u001b[39m Ior_t(ppn,capacidadM,M,tau_n)\n\u001b[0;32m     15\u001b[0m \u001b[38;5;28mprint\u001b[39m(n, tau_n, Ior_tau_n)\n",
      "Cell \u001b[1;32mIn[52], line 75\u001b[0m, in \u001b[0;36mHitTimeMasivo\u001b[1;34m(pp, capacidad, M, par, ind)\u001b[0m\n\u001b[0;32m     73\u001b[0m \u001b[38;5;28;01mfor\u001b[39;00m n \u001b[38;5;129;01min\u001b[39;00m ind:\n\u001b[0;32m     74\u001b[0m     Opt \u001b[38;5;241m=\u001b[39m pp[n]\n\u001b[1;32m---> 75\u001b[0m     F1, l \u001b[38;5;241m=\u001b[39m \u001b[43mHitTime\u001b[49m\u001b[43m(\u001b[49m\u001b[43mOpt\u001b[49m\u001b[43m,\u001b[49m\u001b[43mcapacidad\u001b[49m\u001b[43m[\u001b[49m\u001b[43mn\u001b[49m\u001b[43m]\u001b[49m\u001b[43m,\u001b[49m\u001b[43mM\u001b[49m\u001b[43m,\u001b[49m\u001b[43mpar\u001b[49m\u001b[43m)\u001b[49m\n\u001b[0;32m     76\u001b[0m     absorb \u001b[38;5;241m+\u001b[39m\u001b[38;5;241m=\u001b[39m l\n\u001b[0;32m     77\u001b[0m     Tiempo[n] \u001b[38;5;241m=\u001b[39m (np\u001b[38;5;241m.\u001b[39mones(\u001b[38;5;28mlen\u001b[39m(F1)) \u001b[38;5;241m@\u001b[39m F1) \n",
      "Cell \u001b[1;32mIn[52], line 61\u001b[0m, in \u001b[0;36mHitTime\u001b[1;34m(Opt, cap, M, par)\u001b[0m\n\u001b[0;32m     58\u001b[0m \u001b[38;5;28;01mdef\u001b[39;00m \u001b[38;5;21mHitTime\u001b[39m(Opt,cap,M,par):\n\u001b[0;32m     60\u001b[0m     P \u001b[38;5;241m=\u001b[39m MarkovMatrix(Opt,cap,M,par)\n\u001b[1;32m---> 61\u001b[0m     ind \u001b[38;5;241m=\u001b[39m \u001b[43mindices_a_borrar\u001b[49m\u001b[43m(\u001b[49m\u001b[43mP\u001b[49m\u001b[43m,\u001b[49m\u001b[43mOpt\u001b[49m\u001b[43m)\u001b[49m\n\u001b[0;32m     62\u001b[0m     Q \u001b[38;5;241m=\u001b[39m np\u001b[38;5;241m.\u001b[39mdelete(np\u001b[38;5;241m.\u001b[39mdelete(P,ind,axis\u001b[38;5;241m=\u001b[39m\u001b[38;5;241m1\u001b[39m), ind, axis\u001b[38;5;241m=\u001b[39m\u001b[38;5;241m0\u001b[39m)\n\u001b[0;32m     64\u001b[0m     F1 \u001b[38;5;241m=\u001b[39m np\u001b[38;5;241m.\u001b[39mlinalg\u001b[38;5;241m.\u001b[39msolve(np\u001b[38;5;241m.\u001b[39midentity(\u001b[38;5;28mlen\u001b[39m(Q))\u001b[38;5;241m-\u001b[39mQ,np\u001b[38;5;241m.\u001b[39mones(\u001b[38;5;28mlen\u001b[39m(Q)))\n",
      "Cell \u001b[1;32mIn[52], line 44\u001b[0m, in \u001b[0;36mindices_a_borrar\u001b[1;34m(P, Opt)\u001b[0m\n\u001b[0;32m     42\u001b[0m \u001b[38;5;28;01mdef\u001b[39;00m \u001b[38;5;21mindices_a_borrar\u001b[39m(P,Opt):\n\u001b[0;32m     43\u001b[0m     D \u001b[38;5;241m=\u001b[39m np\u001b[38;5;241m.\u001b[39mdiag(P)\n\u001b[1;32m---> 44\u001b[0m     s \u001b[38;5;241m=\u001b[39m \u001b[43mnp\u001b[49m\u001b[38;5;241;43m.\u001b[39;49m\u001b[43margmax\u001b[49m\u001b[43m(\u001b[49m\u001b[43mD\u001b[49m\u001b[43m)\u001b[49m\n\u001b[0;32m     45\u001b[0m     t \u001b[38;5;241m=\u001b[39m D[s]\n\u001b[0;32m     47\u001b[0m     lista \u001b[38;5;241m=\u001b[39m []\n",
      "File \u001b[1;32mc:\\Users\\nico_\\anaconda3\\envs\\Gurobi\\Lib\\site-packages\\numpy\\core\\fromnumeric.py:1229\u001b[0m, in \u001b[0;36margmax\u001b[1;34m(a, axis, out, keepdims)\u001b[0m\n\u001b[0;32m   1142\u001b[0m \u001b[38;5;250m\u001b[39m\u001b[38;5;124;03m\"\"\"\u001b[39;00m\n\u001b[0;32m   1143\u001b[0m \u001b[38;5;124;03mReturns the indices of the maximum values along an axis.\u001b[39;00m\n\u001b[0;32m   1144\u001b[0m \n\u001b[1;32m   (...)\u001b[0m\n\u001b[0;32m   1226\u001b[0m \u001b[38;5;124;03m(2, 1, 4)\u001b[39;00m\n\u001b[0;32m   1227\u001b[0m \u001b[38;5;124;03m\"\"\"\u001b[39;00m\n\u001b[0;32m   1228\u001b[0m kwds \u001b[38;5;241m=\u001b[39m {\u001b[38;5;124m'\u001b[39m\u001b[38;5;124mkeepdims\u001b[39m\u001b[38;5;124m'\u001b[39m: keepdims} \u001b[38;5;28;01mif\u001b[39;00m keepdims \u001b[38;5;129;01mis\u001b[39;00m \u001b[38;5;129;01mnot\u001b[39;00m np\u001b[38;5;241m.\u001b[39m_NoValue \u001b[38;5;28;01melse\u001b[39;00m {}\n\u001b[1;32m-> 1229\u001b[0m \u001b[38;5;28;01mreturn\u001b[39;00m \u001b[43m_wrapfunc\u001b[49m\u001b[43m(\u001b[49m\u001b[43ma\u001b[49m\u001b[43m,\u001b[49m\u001b[43m \u001b[49m\u001b[38;5;124;43m'\u001b[39;49m\u001b[38;5;124;43margmax\u001b[39;49m\u001b[38;5;124;43m'\u001b[39;49m\u001b[43m,\u001b[49m\u001b[43m \u001b[49m\u001b[43maxis\u001b[49m\u001b[38;5;241;43m=\u001b[39;49m\u001b[43maxis\u001b[49m\u001b[43m,\u001b[49m\u001b[43m \u001b[49m\u001b[43mout\u001b[49m\u001b[38;5;241;43m=\u001b[39;49m\u001b[43mout\u001b[49m\u001b[43m,\u001b[49m\u001b[43m \u001b[49m\u001b[38;5;241;43m*\u001b[39;49m\u001b[38;5;241;43m*\u001b[39;49m\u001b[43mkwds\u001b[49m\u001b[43m)\u001b[49m\n",
      "File \u001b[1;32mc:\\Users\\nico_\\anaconda3\\envs\\Gurobi\\Lib\\site-packages\\numpy\\core\\fromnumeric.py:59\u001b[0m, in \u001b[0;36m_wrapfunc\u001b[1;34m(obj, method, *args, **kwds)\u001b[0m\n\u001b[0;32m     56\u001b[0m     \u001b[38;5;28;01mreturn\u001b[39;00m _wrapit(obj, method, \u001b[38;5;241m*\u001b[39margs, \u001b[38;5;241m*\u001b[39m\u001b[38;5;241m*\u001b[39mkwds)\n\u001b[0;32m     58\u001b[0m \u001b[38;5;28;01mtry\u001b[39;00m:\n\u001b[1;32m---> 59\u001b[0m     \u001b[38;5;28;01mreturn\u001b[39;00m \u001b[43mbound\u001b[49m\u001b[43m(\u001b[49m\u001b[38;5;241;43m*\u001b[39;49m\u001b[43margs\u001b[49m\u001b[43m,\u001b[49m\u001b[43m \u001b[49m\u001b[38;5;241;43m*\u001b[39;49m\u001b[38;5;241;43m*\u001b[39;49m\u001b[43mkwds\u001b[49m\u001b[43m)\u001b[49m\n\u001b[0;32m     60\u001b[0m \u001b[38;5;28;01mexcept\u001b[39;00m \u001b[38;5;167;01mTypeError\u001b[39;00m:\n\u001b[0;32m     61\u001b[0m     \u001b[38;5;66;03m# A TypeError occurs if the object does have such a method in its\u001b[39;00m\n\u001b[0;32m     62\u001b[0m     \u001b[38;5;66;03m# class, but its signature is not identical to that of NumPy's. This\u001b[39;00m\n\u001b[1;32m   (...)\u001b[0m\n\u001b[0;32m     66\u001b[0m     \u001b[38;5;66;03m# Call _wrapit from within the except clause to ensure a potential\u001b[39;00m\n\u001b[0;32m     67\u001b[0m     \u001b[38;5;66;03m# exception has a traceback chain.\u001b[39;00m\n\u001b[0;32m     68\u001b[0m     \u001b[38;5;28;01mreturn\u001b[39;00m _wrapit(obj, method, \u001b[38;5;241m*\u001b[39margs, \u001b[38;5;241m*\u001b[39m\u001b[38;5;241m*\u001b[39mkwds)\n",
      "\u001b[1;31mKeyboardInterrupt\u001b[0m: "
     ]
    }
   ],
   "source": [
    "for n in set(all_pps_df[\"n\"].tolist()):\n",
    "    \n",
    "    ppn = { n2 : 0 for n2 in I+L}\n",
    "\n",
    "    df = all_pps_df.query(\"n == @n and instancia == 1.0\")\n",
    "\n",
    "    for n3 in df.index:\n",
    "        j = int(df.loc[n3, \"j\"])\n",
    "        \n",
    "        ppn[j] = df.loc[n3, \"pp\"]*M\n",
    "\n",
    "    tau_n = HitTimeMasivo(ppn, capacidadM, M , 0,I+L)\n",
    "    Ior_tau_n = Ior_t(ppn,capacidadM,M,tau_n+1)\n",
    "\n",
    "    print(n, tau_n, Ior_tau_n)\n",
    "    "
   ]
  },
  {
   "cell_type": "markdown",
   "id": "460583aa",
   "metadata": {},
   "source": [
    "# Ejemplo de matriz de transición"
   ]
  },
  {
   "cell_type": "markdown",
   "id": "25ff71c6",
   "metadata": {},
   "source": [
    "### $j_1:$"
   ]
  },
  {
   "cell_type": "code",
   "execution_count": 9,
   "id": "642fe7d5",
   "metadata": {},
   "outputs": [
    {
     "name": "stdout",
     "output_type": "stream",
     "text": [
      "[[0.    0.036 0.071 0.107 0.143 0.179 0.164 0.129 0.093 0.057 0.021]\n",
      " [0.    0.    0.054 0.109 0.163 0.217 0.196 0.141 0.087 0.033 0.   ]\n",
      " [0.    0.    0.    0.093 0.185 0.278 0.241 0.148 0.056 0.    0.   ]\n",
      " [0.    0.    0.    0.    0.192 0.385 0.308 0.115 0.    0.    0.   ]\n",
      " [0.    0.    0.    0.    0.    0.625 0.375 0.    0.    0.    0.   ]\n",
      " [0.    0.    0.    0.    0.    1.    0.    0.    0.    0.    0.   ]\n",
      " [0.    0.    0.    0.    0.    1.    0.    0.    0.    0.    0.   ]\n",
      " [0.    0.    0.    0.    0.143 0.5   0.357 0.    0.    0.    0.   ]\n",
      " [0.    0.    0.    0.056 0.194 0.333 0.278 0.139 0.    0.    0.   ]\n",
      " [0.    0.    0.029 0.103 0.176 0.25  0.221 0.147 0.074 0.    0.   ]\n",
      " [0.    0.018 0.064 0.109 0.155 0.2   0.182 0.136 0.091 0.045 0.   ]]\n"
     ]
    }
   ],
   "source": [
    "Opt = 5.3\n",
    "cap = 10\n",
    "m2 = 10\n",
    "par = 0.0\n",
    "\n",
    "MP = MarkovMatrix(Opt,cap,m2,par)\n",
    "\n",
    "printt(MP,3)"
   ]
  },
  {
   "cell_type": "markdown",
   "id": "a3ad92dc",
   "metadata": {},
   "source": [
    "### $j_2:$"
   ]
  },
  {
   "cell_type": "code",
   "execution_count": 10,
   "id": "045e857e",
   "metadata": {},
   "outputs": [
    {
     "name": "stdout",
     "output_type": "stream",
     "text": [
      "[[0.    0.021 0.042 0.063 0.084 0.105 0.126 0.146 0.159 0.138 0.117]\n",
      " [0.    0.    0.026 0.053 0.079 0.106 0.132 0.159 0.175 0.148 0.122]\n",
      " [0.    0.    0.    0.035 0.069 0.104 0.139 0.174 0.194 0.16  0.125]\n",
      " [0.    0.    0.    0.    0.048 0.096 0.144 0.192 0.221 0.173 0.125]\n",
      " [0.    0.    0.    0.    0.    0.072 0.145 0.217 0.261 0.188 0.116]\n",
      " [0.    0.    0.    0.    0.    0.    0.128 0.256 0.333 0.205 0.077]\n",
      " [0.    0.    0.    0.    0.    0.    0.    0.313 0.5   0.187 0.   ]\n",
      " [0.    0.    0.    0.    0.    0.    0.    0.    1.    0.    0.   ]\n",
      " [0.    0.    0.    0.    0.    0.    0.    0.    1.    0.    0.   ]\n",
      " [0.    0.    0.    0.    0.    0.    0.    0.286 0.714 0.    0.   ]\n",
      " [0.    0.    0.    0.    0.    0.    0.083 0.292 0.417 0.208 0.   ]]\n"
     ]
    }
   ],
   "source": [
    "Opt = 7.8\n",
    "cap = 10\n",
    "m2 = 10\n",
    "par = 0.0\n",
    "\n",
    "MP = MarkovMatrix(Opt,cap,m2,par)\n",
    "\n",
    "printt(MP,3)"
   ]
  }
 ],
 "metadata": {
  "kernelspec": {
   "display_name": "Gurobi",
   "language": "python",
   "name": "python3"
  },
  "language_info": {
   "codemirror_mode": {
    "name": "ipython",
    "version": 3
   },
   "file_extension": ".py",
   "mimetype": "text/x-python",
   "name": "python",
   "nbconvert_exporter": "python",
   "pygments_lexer": "ipython3",
   "version": "3.12.2"
  }
 },
 "nbformat": 4,
 "nbformat_minor": 5
}

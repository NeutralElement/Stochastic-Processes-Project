{
 "cells": [
  {
   "cell_type": "code",
   "execution_count": null,
   "id": "01d03898-02f4-4290-8152-012f559ec56e",
   "metadata": {},
   "outputs": [],
   "source": []
  }
 ],
 "metadata": {
  "kernelspec": {
   "display_name": "",
   "name": ""
  },
  "language_info": {
   "name": ""
  }
 },
 "nbformat": 4,
 "nbformat_minor": 5
}
